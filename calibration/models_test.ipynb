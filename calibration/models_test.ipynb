{
 "cells": [
  {
   "cell_type": "code",
   "execution_count": 76,
   "metadata": {},
   "outputs": [
    {
     "name": "stdout",
     "output_type": "stream",
     "text": [
      "The autoreload extension is already loaded. To reload it, use:\n",
      "  %reload_ext autoreload\n"
     ]
    }
   ],
   "source": [
    "%load_ext autoreload\n",
    "%autoreload 2"
   ]
  },
  {
   "cell_type": "code",
   "execution_count": 77,
   "metadata": {},
   "outputs": [],
   "source": [
    "import os\n",
    "import glob\n",
    "import numpy as np\n",
    "import pickle\n",
    "import scipy.signal as signal\n",
    "from scipy.stats import zscore\n",
    "import pandas as pd\n",
    "from sklearn.model_selection import train_test_split, GridSearchCV\n",
    "from sklearn.ensemble import HistGradientBoostingClassifier\n",
    "from sklearn.metrics import classification_report, accuracy_score\n",
    "from feature_cleaning import extract_features_from_signal\n",
    "from sklearn.decomposition import PCA\n",
    "from sklearn.cluster import KMeans\n",
    "import matplotlib.pyplot as plt\n",
    "import joblib"
   ]
  },
  {
   "cell_type": "code",
   "execution_count": 78,
   "metadata": {},
   "outputs": [],
   "source": [
    "def load_data(data_dir='test_data/'):\n",
    "    \"\"\"\n",
    "    Load all .npy files from subdirectories (gesture labels) under data_dir.\n",
    "    Assumes structure: data_dir/<gesture>/<gesture>_rep*.npy\n",
    "    Returns:\n",
    "        signals: list of raw signal arrays\n",
    "        labels: list of corresponding labels (str)\n",
    "    \"\"\"\n",
    "    signals = []\n",
    "    labels = []\n",
    "    for gesture_dir in os.listdir(data_dir):\n",
    "        full_dir = os.path.join(data_dir, gesture_dir)\n",
    "        if os.path.isdir(full_dir):\n",
    "            for file in glob.glob(os.path.join(full_dir, '*.npy')):\n",
    "                data = np.load(file).T\n",
    "                if data.shape[0] != 7:\n",
    "                    print(f\"Skipping {file} with shape {data.shape}\")\n",
    "                    continue\n",
    "                print(data.shape)\n",
    "                new_data = np.concatenate((data[5],data[6]))\n",
    "        \n",
    "            \n",
    "                signals.append(new_data)  # data is assumed to be a 2D array: samples x channels\n",
    "                labels.append(gesture_dir)\n",
    "\n",
    "\n",
    "    return signals, labels"
   ]
  },
  {
   "cell_type": "code",
   "execution_count": 79,
   "metadata": {},
   "outputs": [
    {
     "name": "stdout",
     "output_type": "stream",
     "text": [
      "(7, 2300)\n",
      "(7, 2500)\n",
      "(7, 2300)\n"
     ]
    }
   ],
   "source": [
    "signals, labels = load_data()"
   ]
  },
  {
   "cell_type": "code",
   "execution_count": 80,
   "metadata": {},
   "outputs": [],
   "source": [
    "signal_chunck_size = 333\n",
    "new_signals = []\n",
    "new_labels = []\n",
    "for label, signal in zip(labels, signals):\n",
    "\n",
    "    signal1 = signal[:len(signal)//2]\n",
    "    signal2 = signal[len(signal)//2:]\n",
    "\n",
    "    for i in range(0, len(signal1), signal_chunck_size):\n",
    "        if i + signal_chunck_size > len(signal1):\n",
    "            i = len(signal1) - signal_chunck_size\n",
    "        new_signal = np.concatenate((signal1[i:i+signal_chunck_size] ,signal2[i:i+signal_chunck_size]))\n",
    "\n",
    "        features = extract_features_from_signal(new_signal)\n",
    "\n",
    "        new_signals.append(features)\n",
    "        new_labels.append(label)"
   ]
  },
  {
   "cell_type": "code",
   "execution_count": 81,
   "metadata": {},
   "outputs": [
    {
     "data": {
      "text/plain": [
       "(array([   2.41687722,    1.84672742,   97.        ,  183.        ,\n",
       "         539.52561557,   35.15625   ,    8.80511845,    6.75916728,\n",
       "          78.        ,  135.        , 1693.33358711,   66.40625   ]),\n",
       " 'repos')"
      ]
     },
     "execution_count": 81,
     "metadata": {},
     "output_type": "execute_result"
    }
   ],
   "source": [
    "new_signals[0], new_labels[-1]"
   ]
  },
  {
   "cell_type": "code",
   "execution_count": 82,
   "metadata": {},
   "outputs": [],
   "source": [
    "df = pd.DataFrame(new_signals, columns=[\"rms1\", \"mav1\", \"zc1\", \"ssc1\", \"wl1\", \"dom_freq1\",\"rms2\", \"mav2\", \"zc2\", \"ssc2\", \"wl2\", \"dom_freq2\"])\n",
    "df['label'] = new_labels \n",
    "\n",
    "label_mapping = {'open': \"open\", 'punch': \"punch\", 'repos': \"rest\"}\n",
    "df['label'] = df['label'].map(label_mapping)"
   ]
  },
  {
   "cell_type": "code",
   "execution_count": 83,
   "metadata": {},
   "outputs": [
    {
     "data": {
      "text/html": [
       "<div>\n",
       "<style scoped>\n",
       "    .dataframe tbody tr th:only-of-type {\n",
       "        vertical-align: middle;\n",
       "    }\n",
       "\n",
       "    .dataframe tbody tr th {\n",
       "        vertical-align: top;\n",
       "    }\n",
       "\n",
       "    .dataframe thead th {\n",
       "        text-align: right;\n",
       "    }\n",
       "</style>\n",
       "<table border=\"1\" class=\"dataframe\">\n",
       "  <thead>\n",
       "    <tr style=\"text-align: right;\">\n",
       "      <th></th>\n",
       "      <th>rms1</th>\n",
       "      <th>mav1</th>\n",
       "      <th>zc1</th>\n",
       "      <th>ssc1</th>\n",
       "      <th>wl1</th>\n",
       "      <th>dom_freq1</th>\n",
       "      <th>rms2</th>\n",
       "      <th>mav2</th>\n",
       "      <th>zc2</th>\n",
       "      <th>ssc2</th>\n",
       "      <th>wl2</th>\n",
       "      <th>dom_freq2</th>\n",
       "      <th>label</th>\n",
       "    </tr>\n",
       "  </thead>\n",
       "  <tbody>\n",
       "    <tr>\n",
       "      <th>0</th>\n",
       "      <td>2.416877</td>\n",
       "      <td>1.846727</td>\n",
       "      <td>97.0</td>\n",
       "      <td>183.0</td>\n",
       "      <td>539.525616</td>\n",
       "      <td>35.15625</td>\n",
       "      <td>8.805118</td>\n",
       "      <td>6.759167</td>\n",
       "      <td>78.0</td>\n",
       "      <td>135.0</td>\n",
       "      <td>1693.333587</td>\n",
       "      <td>66.40625</td>\n",
       "      <td>open</td>\n",
       "    </tr>\n",
       "    <tr>\n",
       "      <th>1</th>\n",
       "      <td>2.483103</td>\n",
       "      <td>1.936531</td>\n",
       "      <td>101.0</td>\n",
       "      <td>165.0</td>\n",
       "      <td>549.721653</td>\n",
       "      <td>54.68750</td>\n",
       "      <td>9.354299</td>\n",
       "      <td>6.899954</td>\n",
       "      <td>65.0</td>\n",
       "      <td>140.0</td>\n",
       "      <td>1505.108207</td>\n",
       "      <td>50.78125</td>\n",
       "      <td>open</td>\n",
       "    </tr>\n",
       "    <tr>\n",
       "      <th>2</th>\n",
       "      <td>1.914283</td>\n",
       "      <td>1.533502</td>\n",
       "      <td>91.0</td>\n",
       "      <td>165.0</td>\n",
       "      <td>468.707393</td>\n",
       "      <td>50.78125</td>\n",
       "      <td>9.983520</td>\n",
       "      <td>6.660797</td>\n",
       "      <td>70.0</td>\n",
       "      <td>136.0</td>\n",
       "      <td>1503.480491</td>\n",
       "      <td>50.78125</td>\n",
       "      <td>open</td>\n",
       "    </tr>\n",
       "    <tr>\n",
       "      <th>3</th>\n",
       "      <td>2.193632</td>\n",
       "      <td>1.713367</td>\n",
       "      <td>100.0</td>\n",
       "      <td>176.0</td>\n",
       "      <td>509.311554</td>\n",
       "      <td>54.68750</td>\n",
       "      <td>9.768186</td>\n",
       "      <td>7.060970</td>\n",
       "      <td>72.0</td>\n",
       "      <td>130.0</td>\n",
       "      <td>1482.198886</td>\n",
       "      <td>54.68750</td>\n",
       "      <td>open</td>\n",
       "    </tr>\n",
       "    <tr>\n",
       "      <th>4</th>\n",
       "      <td>1.922283</td>\n",
       "      <td>1.530956</td>\n",
       "      <td>108.0</td>\n",
       "      <td>177.0</td>\n",
       "      <td>489.068857</td>\n",
       "      <td>66.40625</td>\n",
       "      <td>8.223347</td>\n",
       "      <td>5.653749</td>\n",
       "      <td>74.0</td>\n",
       "      <td>138.0</td>\n",
       "      <td>1273.181659</td>\n",
       "      <td>66.40625</td>\n",
       "      <td>open</td>\n",
       "    </tr>\n",
       "  </tbody>\n",
       "</table>\n",
       "</div>"
      ],
      "text/plain": [
       "       rms1      mav1    zc1   ssc1         wl1  dom_freq1      rms2  \\\n",
       "0  2.416877  1.846727   97.0  183.0  539.525616   35.15625  8.805118   \n",
       "1  2.483103  1.936531  101.0  165.0  549.721653   54.68750  9.354299   \n",
       "2  1.914283  1.533502   91.0  165.0  468.707393   50.78125  9.983520   \n",
       "3  2.193632  1.713367  100.0  176.0  509.311554   54.68750  9.768186   \n",
       "4  1.922283  1.530956  108.0  177.0  489.068857   66.40625  8.223347   \n",
       "\n",
       "       mav2   zc2   ssc2          wl2  dom_freq2 label  \n",
       "0  6.759167  78.0  135.0  1693.333587   66.40625  open  \n",
       "1  6.899954  65.0  140.0  1505.108207   50.78125  open  \n",
       "2  6.660797  70.0  136.0  1503.480491   50.78125  open  \n",
       "3  7.060970  72.0  130.0  1482.198886   54.68750  open  \n",
       "4  5.653749  74.0  138.0  1273.181659   66.40625  open  "
      ]
     },
     "execution_count": 83,
     "metadata": {},
     "output_type": "execute_result"
    }
   ],
   "source": [
    "df.head()"
   ]
  },
  {
   "cell_type": "code",
   "execution_count": 84,
   "metadata": {},
   "outputs": [],
   "source": [
    "scaler = joblib.load(\"scaler.pkl\")"
   ]
  },
  {
   "cell_type": "code",
   "execution_count": 85,
   "metadata": {},
   "outputs": [],
   "source": [
    "# Scaling data\n",
    "num_cols = df.select_dtypes(include=['number']).columns\n",
    "df[num_cols] = scaler.fit_transform(df[num_cols])"
   ]
  },
  {
   "cell_type": "code",
   "execution_count": 86,
   "metadata": {},
   "outputs": [
    {
     "data": {
      "text/html": [
       "<div>\n",
       "<style scoped>\n",
       "    .dataframe tbody tr th:only-of-type {\n",
       "        vertical-align: middle;\n",
       "    }\n",
       "\n",
       "    .dataframe tbody tr th {\n",
       "        vertical-align: top;\n",
       "    }\n",
       "\n",
       "    .dataframe thead th {\n",
       "        text-align: right;\n",
       "    }\n",
       "</style>\n",
       "<table border=\"1\" class=\"dataframe\">\n",
       "  <thead>\n",
       "    <tr style=\"text-align: right;\">\n",
       "      <th></th>\n",
       "      <th>rms1</th>\n",
       "      <th>mav1</th>\n",
       "      <th>zc1</th>\n",
       "      <th>ssc1</th>\n",
       "      <th>wl1</th>\n",
       "      <th>dom_freq1</th>\n",
       "      <th>rms2</th>\n",
       "      <th>mav2</th>\n",
       "      <th>zc2</th>\n",
       "      <th>ssc2</th>\n",
       "      <th>wl2</th>\n",
       "      <th>dom_freq2</th>\n",
       "      <th>label</th>\n",
       "    </tr>\n",
       "  </thead>\n",
       "  <tbody>\n",
       "    <tr>\n",
       "      <th>0</th>\n",
       "      <td>0.940100</td>\n",
       "      <td>1.020945</td>\n",
       "      <td>-0.980656</td>\n",
       "      <td>0.243020</td>\n",
       "      <td>0.929446</td>\n",
       "      <td>-0.841422</td>\n",
       "      <td>1.312042</td>\n",
       "      <td>1.508556</td>\n",
       "      <td>-0.636234</td>\n",
       "      <td>-0.928307</td>\n",
       "      <td>1.995340</td>\n",
       "      <td>-0.482639</td>\n",
       "      <td>open</td>\n",
       "    </tr>\n",
       "    <tr>\n",
       "      <th>1</th>\n",
       "      <td>1.080440</td>\n",
       "      <td>1.294384</td>\n",
       "      <td>-0.755336</td>\n",
       "      <td>-1.334619</td>\n",
       "      <td>1.115988</td>\n",
       "      <td>-0.341117</td>\n",
       "      <td>1.516016</td>\n",
       "      <td>1.580511</td>\n",
       "      <td>-1.147366</td>\n",
       "      <td>-0.713783</td>\n",
       "      <td>1.463235</td>\n",
       "      <td>-0.799596</td>\n",
       "      <td>open</td>\n",
       "    </tr>\n",
       "    <tr>\n",
       "      <th>2</th>\n",
       "      <td>-0.124941</td>\n",
       "      <td>0.067224</td>\n",
       "      <td>-1.318637</td>\n",
       "      <td>-1.334619</td>\n",
       "      <td>-0.366211</td>\n",
       "      <td>-0.441178</td>\n",
       "      <td>1.749718</td>\n",
       "      <td>1.458279</td>\n",
       "      <td>-0.950776</td>\n",
       "      <td>-0.885402</td>\n",
       "      <td>1.458634</td>\n",
       "      <td>-0.799596</td>\n",
       "      <td>open</td>\n",
       "    </tr>\n",
       "    <tr>\n",
       "      <th>3</th>\n",
       "      <td>0.467024</td>\n",
       "      <td>0.614883</td>\n",
       "      <td>-0.811666</td>\n",
       "      <td>-0.370506</td>\n",
       "      <td>0.376664</td>\n",
       "      <td>-0.341117</td>\n",
       "      <td>1.669740</td>\n",
       "      <td>1.662805</td>\n",
       "      <td>-0.872141</td>\n",
       "      <td>-1.142832</td>\n",
       "      <td>1.398471</td>\n",
       "      <td>-0.720357</td>\n",
       "      <td>open</td>\n",
       "    </tr>\n",
       "    <tr>\n",
       "      <th>4</th>\n",
       "      <td>-0.107988</td>\n",
       "      <td>0.059473</td>\n",
       "      <td>-0.361025</td>\n",
       "      <td>-0.282860</td>\n",
       "      <td>0.006313</td>\n",
       "      <td>-0.040934</td>\n",
       "      <td>1.095963</td>\n",
       "      <td>0.943585</td>\n",
       "      <td>-0.793505</td>\n",
       "      <td>-0.799593</td>\n",
       "      <td>0.807589</td>\n",
       "      <td>-0.482639</td>\n",
       "      <td>open</td>\n",
       "    </tr>\n",
       "  </tbody>\n",
       "</table>\n",
       "</div>"
      ],
      "text/plain": [
       "       rms1      mav1       zc1      ssc1       wl1  dom_freq1      rms2  \\\n",
       "0  0.940100  1.020945 -0.980656  0.243020  0.929446  -0.841422  1.312042   \n",
       "1  1.080440  1.294384 -0.755336 -1.334619  1.115988  -0.341117  1.516016   \n",
       "2 -0.124941  0.067224 -1.318637 -1.334619 -0.366211  -0.441178  1.749718   \n",
       "3  0.467024  0.614883 -0.811666 -0.370506  0.376664  -0.341117  1.669740   \n",
       "4 -0.107988  0.059473 -0.361025 -0.282860  0.006313  -0.040934  1.095963   \n",
       "\n",
       "       mav2       zc2      ssc2       wl2  dom_freq2 label  \n",
       "0  1.508556 -0.636234 -0.928307  1.995340  -0.482639  open  \n",
       "1  1.580511 -1.147366 -0.713783  1.463235  -0.799596  open  \n",
       "2  1.458279 -0.950776 -0.885402  1.458634  -0.799596  open  \n",
       "3  1.662805 -0.872141 -1.142832  1.398471  -0.720357  open  \n",
       "4  0.943585 -0.793505 -0.799593  0.807589  -0.482639  open  "
      ]
     },
     "execution_count": 86,
     "metadata": {},
     "output_type": "execute_result"
    }
   ],
   "source": [
    "df.head()"
   ]
  },
  {
   "cell_type": "markdown",
   "metadata": {},
   "source": [
    "# Test Models"
   ]
  },
  {
   "cell_type": "code",
   "execution_count": 87,
   "metadata": {},
   "outputs": [],
   "source": [
    "with open('models/movement_classifier_model.pkl', 'rb') as file:\n",
    "    movement_classifier = pickle.load(file)\n",
    "with open('models/open_classifier_model.pkl', 'rb') as file:\n",
    "    open_tired_classifier = pickle.load(file)\n",
    "with open('models/punch_classifier_model.pkl', 'rb') as file:\n",
    "    punch_tired_classifier = pickle.load(file)"
   ]
  },
  {
   "cell_type": "markdown",
   "metadata": {},
   "source": [
    "## Movement Model"
   ]
  },
  {
   "cell_type": "code",
   "execution_count": 88,
   "metadata": {},
   "outputs": [
    {
     "name": "stdout",
     "output_type": "stream",
     "text": [
      "Test Accuracy: 31.82%\n"
     ]
    },
    {
     "name": "stderr",
     "output_type": "stream",
     "text": [
      "c:\\Users\\walid\\miniconda3\\envs\\amal\\lib\\site-packages\\sklearn\\utils\\validation.py:2739: UserWarning: X does not have valid feature names, but HistGradientBoostingClassifier was fitted with feature names\n",
      "  warnings.warn(\n"
     ]
    }
   ],
   "source": [
    "X_test = scaler.transform(df.drop('label', axis=1))\n",
    "y_test = df['label']\n",
    "\n",
    "y_test_pred = movement_classifier.predict(X_test)\n",
    "\n",
    "test_accuracy = accuracy_score(y_test, y_test_pred)\n",
    "\n",
    "print(f\"Test Accuracy: {test_accuracy * 100:.2f}%\")"
   ]
  },
  {
   "cell_type": "code",
   "execution_count": 89,
   "metadata": {},
   "outputs": [
    {
     "data": {
      "text/plain": [
       "array(['punch', 'punch', 'punch', 'punch', 'punch', 'punch', 'punch',\n",
       "       'open', 'punch', 'punch', 'punch', 'punch', 'punch', 'punch',\n",
       "       'punch', 'punch', 'punch', 'punch', 'punch', 'punch', 'punch',\n",
       "       'punch'], dtype=object)"
      ]
     },
     "execution_count": 89,
     "metadata": {},
     "output_type": "execute_result"
    }
   ],
   "source": [
    "y_test_pred"
   ]
  },
  {
   "cell_type": "code",
   "execution_count": null,
   "metadata": {},
   "outputs": [],
   "source": []
  }
 ],
 "metadata": {
  "kernelspec": {
   "display_name": "amal",
   "language": "python",
   "name": "python3"
  },
  "language_info": {
   "codemirror_mode": {
    "name": "ipython",
    "version": 3
   },
   "file_extension": ".py",
   "mimetype": "text/x-python",
   "name": "python",
   "nbconvert_exporter": "python",
   "pygments_lexer": "ipython3",
   "version": "3.10.14"
  }
 },
 "nbformat": 4,
 "nbformat_minor": 2
}
